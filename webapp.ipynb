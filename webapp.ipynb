{
  "nbformat": 4,
  "nbformat_minor": 0,
  "metadata": {
    "colab": {
      "provenance": [],
      "authorship_tag": "ABX9TyP67WCyJiXOhhbfeUk8WTmt",
      "include_colab_link": true
    },
    "kernelspec": {
      "name": "python3",
      "display_name": "Python 3"
    },
    "language_info": {
      "name": "python"
    }
  },
  "cells": [
    {
      "cell_type": "markdown",
      "metadata": {
        "id": "view-in-github",
        "colab_type": "text"
      },
      "source": [
        "<a href=\"https://colab.research.google.com/github/kovacsanna77/IntroToML/blob/main/webapp.ipynb\" target=\"_parent\"><img src=\"https://colab.research.google.com/assets/colab-badge.svg\" alt=\"Open In Colab\"/></a>"
      ]
    },
    {
      "cell_type": "code",
      "source": [
        "# !pip install streamlit"
      ],
      "metadata": {
        "id": "sxg1Aq2kvwQv"
      },
      "execution_count": null,
      "outputs": []
    },
    {
      "cell_type": "code",
      "execution_count": null,
      "metadata": {
        "id": "r3xO9RsMvtJ3"
      },
      "outputs": [],
      "source": [
        "import streamlit as st\n",
        "import pickle\n",
        "import nltk\n",
        "import numpy as np\n",
        "import pandas as pd\n",
        "from nltk.stem import WordNetLemmatizer\n",
        "from nltk.tokenize import word_tokenize\n",
        "from nltk.corpus import stopwords\n",
        "from nltk.stem import PorterStemmer"
      ]
    },
    {
      "cell_type": "code",
      "source": [],
      "metadata": {
        "id": "oqQbzVrVwBav"
      },
      "execution_count": null,
      "outputs": []
    },
    {
      "cell_type": "code",
      "source": [
        "# Terms must have DF >= 5 to be considered\n",
        "def tokenizer(text):\n",
        "    \"\"\"\n",
        "    Tokenizes the document\n",
        "    \"\"\"\n",
        "    return word_tokenize(text)\n",
        "\n",
        "\n",
        "\n",
        "nltk.download('stopwords')\n",
        "nltk.download('punkt')\n",
        "nltk.download('wordnet')\n",
        "#Load up our stop words\n",
        "stop_words = stopwords.words('english')\n",
        "#Adds stuff to our stop words list\n",
        "stop_words.extend(['.',','])\n",
        "\n",
        "\n",
        "## This function can improve, simplify. Look into Text Data Lecture\n",
        "def remove_stopwords(list_of_tokens):\n",
        "    \"\"\"\n",
        "    Removes stopwords\n",
        "    \"\"\"\n",
        "    \n",
        "    cleaned_tokens = [] \n",
        "    \n",
        "    for token in list_of_tokens: \n",
        "        if token in stop_words: continue \n",
        "        cleaned_tokens.append(token)\n",
        "            \n",
        "    return cleaned_tokens\n",
        "\n",
        "\n",
        "def stemmer(list_of_tokens):\n",
        "    '''\n",
        "    Takes in an input which is a list of tokens, and spits out a list of stemmed tokens.\n",
        "    '''\n",
        "    \n",
        "    stemmed_tokens_list = []\n",
        "    \n",
        "    for i in list_of_tokens:\n",
        "        \n",
        "        token = PorterStemmer().stem(i)\n",
        "        stemmed_tokens_list.append(token)\n",
        "        \n",
        "    return stemmed_tokens_list\n",
        "\n",
        "def lemmatizer(list_of_tokens):\n",
        "    \n",
        "    lemmatized_tokens_list = []\n",
        "    \n",
        "    for i in list_of_tokens: \n",
        "        token = WordNetLemmatizer().lemmatize(i)\n",
        "        lemmatized_tokens_list.append(token)\n",
        "        \n",
        "    return lemmatized_tokens_list\n",
        "\n",
        "\n",
        "def the_untokenizer(token_list):\n",
        "        '''\n",
        "        Returns all the tokenized words in the list to one string. \n",
        "        Used after the pre processing, such as removing stopwords, and lemmatizing. \n",
        "        '''\n",
        "        return \" \".join(token_list)\n",
        "\n",
        "def cleaning_our_texts(text):\n",
        "  \n",
        "  tokenized_list = tokenizer(text)\n",
        "  removed_stopwords = remove_stopwords(tokenized_list)\n",
        "  stemmed_words = stemmer(removed_stopwords)\n",
        "  lemmatized_words = lemmatizer(stemmed_words)\n",
        "  back_to_string = the_untokenizer(lemmatized_words)\n",
        "  return back_to_string"
      ],
      "metadata": {
        "id": "YGdmqxBC1yyY",
        "colab": {
          "base_uri": "https://localhost:8080/"
        },
        "outputId": "1bef3421-0607-47cf-9a4c-1ae1b93e140f"
      },
      "execution_count": null,
      "outputs": [
        {
          "output_type": "stream",
          "name": "stderr",
          "text": [
            "[nltk_data] Downloading package stopwords to /root/nltk_data...\n",
            "[nltk_data]   Unzipping corpora/stopwords.zip.\n",
            "[nltk_data] Downloading package punkt to /root/nltk_data...\n",
            "[nltk_data]   Unzipping tokenizers/punkt.zip.\n",
            "[nltk_data] Downloading package wordnet to /root/nltk_data...\n"
          ]
        }
      ]
    },
    {
      "cell_type": "code",
      "source": [
        "genre_cols=['Action', 'Adventure', 'Animation', 'Comedy', 'Crime', 'Documentary', 'Drama', 'Family', 'Fantasy', 'Foreign', 'History', 'Horror', 'Music', 'Mystery', 'Romance', 'ScienceFiction', 'Thriller', 'War', 'Western']\n",
        "feature_cols=['id']"
      ],
      "metadata": {
        "id": "d6Ysd-U5oktY"
      },
      "execution_count": null,
      "outputs": []
    },
    {
      "cell_type": "code",
      "source": [
        "from sklearn.preprocessing import StandardScaler \n",
        "from sklearn.feature_extraction.text import TfidfVectorizer\n",
        "import joblib\n",
        "from sklearn.metrics import accuracy_score\n",
        "\n",
        "\n",
        "\n",
        "def predict_genre(text, model_choice):  \n",
        "\n",
        "  if model_choice =='Logistic regression':\n",
        "    model = pickle.load(open('predictwithLogReg.sav','rb'))\n",
        "  elif model_choice =='SVM':\n",
        "    model = pickle.load(open('predictwithSVM.sav','rb'))\n",
        "\n",
        "  my_scaler = joblib.load('my_best_scaler.pkl')\n",
        "  my_tfidf = joblib.load('my_best_tfidf.pkl')\n",
        "  \n",
        "  feature_cols_df = pd.DataFrame([[0]*1 ], columns=feature_cols)\n",
        "\n",
        "  input_tfidf = my_tfidf.transform([cleaning_our_texts(text)])\n",
        "  input_transformed_df = pd.DataFrame(input_tfidf.toarray(), columns=my_tfidf.get_feature_names_out())\n",
        "  input_final = pd.concat([feature_cols_df, input_transformed_df], axis=1)\n",
        "  \n",
        "  X = my_scaler.transform(input_final)\n",
        "  \n",
        "  prediction = model.predict_proba(X)\n",
        "  \n",
        "  df = pd.DataFrame(prediction, columns=genre_cols).T.sort_values(0, ascending=False)\n",
        "  output_list = []\n",
        "  for index, row in df.iterrows():\n",
        "    if row.values[0] >= 0.2:\n",
        "      temp_list = [int(round(row.values[0]*100,0)), index.capitalize()]\n",
        "      output_list.append(temp_list)\n",
        "\n",
        "  \n",
        "  return output_list\n",
        "\n"
      ],
      "metadata": {
        "id": "YH9j1NJcwk5h"
      },
      "execution_count": null,
      "outputs": []
    },
    {
      "cell_type": "code",
      "source": [
        "initial_plot=\"In a bleak dystopian future, humanity clings to survival deep underground within the confines of a colossal silo. Juliette, an engineer tasked with unraveling the mystery behind the death of a colleague, uncovers startling secrets that threaten the very fabric of their enclosed world. Based on the novel of the same name by Hugh Howey.\"\n",
        "genres = predict_genre(initial_plot,\"Logistic regression\")\n",
        "\n",
        "outlist = getGenreNames(genres)\n",
        "outlist"
      ],
      "metadata": {
        "colab": {
          "base_uri": "https://localhost:8080/"
        },
        "id": "detqb4zoH7R5",
        "outputId": "bd79b442-7350-42f1-eaff-fa4899bbfae7"
      },
      "execution_count": null,
      "outputs": [
        {
          "output_type": "execute_result",
          "data": {
            "text/plain": [
              "['Thriller', 'Mystery', 'Adventure', 'Sciencefiction', 'Horror', 'Drama']"
            ]
          },
          "metadata": {},
          "execution_count": 28
        }
      ]
    },
    {
      "cell_type": "code",
      "source": [
        "def getGenreNames(inlist):\n",
        "  outlist =[] \n",
        "  for i in range(len(inlist)):\n",
        "    name = inlist[i][1]\n",
        "    outlist.append(name)\n",
        "\n",
        "  return outlist\n",
        "if __name__ == '__main__':\n",
        "  st.title(\"Movie Genre classification\")\n",
        "  models = ['Logistic regression', 'SVM']\n",
        "  initial_plot=\"In a bleak dystopian future, humanity clings to survival deep underground within the confines of a colossal silo. Juliette, an engineer tasked with unraveling the mystery behind the death of a colleague, uncovers startling secrets that threaten the very fabric of their enclosed world. Based on the novel of the same name by Hugh Howey.\"\n",
        "  text = st.text_area(\"Write an overview of the movie to predict genre.\",initial_plot)\n",
        "\n",
        "  chosen_model = st.radio('Select a model to predict', models)\n",
        " \n",
        "  if st.button('Predict'):\n",
        "\n",
        "    if chosen_model == models[0]:\n",
        "      genre_list = predict_genre(text, models[0])\n",
        "      genre_list_final = getGenreNames(genre_list)\n",
        "      st.success(\"Predicted genres: {0}\".format(genre_list))\n",
        "    elif chosen_model == models[1]:\n",
        "      genre_list = predict_genre(text, models[1])\n",
        "      genre_list_final = getGenreNames(genre_list)\n",
        "      st.success(\"Predicted genres: {0}\".format(genre_list))\n",
        "     "
      ],
      "metadata": {
        "id": "YK5himuQwC-9"
      },
      "execution_count": null,
      "outputs": []
    }
  ]
}